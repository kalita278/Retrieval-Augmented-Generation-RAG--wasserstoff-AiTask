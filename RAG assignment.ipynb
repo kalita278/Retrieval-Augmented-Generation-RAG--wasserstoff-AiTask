{
 "cells": [
  {
   "cell_type": "code",
   "execution_count": 2,
   "id": "f67db59e-dc9b-4e3b-be3c-f15ae1f5c2fb",
   "metadata": {},
   "outputs": [],
   "source": [
    "import PyPDF2\n",
    "\n",
    "from langchain.text_splitter import RecursiveCharacterTextSplitter\n",
    "from langchain_community.llms import LlamaCpp\n",
    "\n",
    "\n",
    "from langchain.embeddings import HuggingFaceEmbeddings # import hf embedding\n",
    "from langchain.vectorstores import FAISS\n",
    "from langchain.memory import ConversationBufferMemory\n",
    "from langchain.chains import ConversationalRetrievalChain\n",
    "\n",
    "\n",
    "from langchain.prompts import PromptTemplate\n",
    "from sentence_transformers import SentenceTransformer, util\n",
    "from langchain.callbacks.manager import CallbackManager\n",
    "from langchain.callbacks.streaming_stdout import StreamingStdOutCallbackHandler"
   ]
  },
  {
   "cell_type": "markdown",
   "id": "c30c9e40-d32c-4ccd-bb17-c2911ca59599",
   "metadata": {},
   "source": [
    "# Step 1: Preparing pdf metadata"
   ]
  },
  {
   "cell_type": "code",
   "execution_count": 10,
   "id": "31b95856-0c9c-4ccd-8803-907aec0a65a7",
   "metadata": {},
   "outputs": [],
   "source": [
    "pdf_files=[\"C:/Users/Mrinal Kalita/Python Projects/AIML Capstone Project - CV - Pneumonia Detection-1.pdf\"]"
   ]
  },
  {
   "cell_type": "code",
   "execution_count": 13,
   "id": "b5a41429-8752-46ba-8c88-113adae0d699",
   "metadata": {},
   "outputs": [],
   "source": [
    "def process_pdf(pdf_files):\n",
    "    documents = []\n",
    "    metadata = []\n",
    "    content = []\n",
    "\n",
    "    for i in pdf_files:\n",
    "\n",
    "        pdf_read = PyPDF2.PdfReader(i)\n",
    "        for ind, text in enumerate(pdf_read.pages):\n",
    "            doc_page = {'title': i + \" page \" + str(ind + 1),\n",
    "                        'content': pdf_read.pages[ind].extract_text()}\n",
    "            documents.append(doc_page)\n",
    "    for doc in documents:\n",
    "        content.append(doc[\"content\"])\n",
    "        metadata.append({\n",
    "            \"title\": doc[\"title\"]\n",
    "        })\n",
    "    print(\"Content and metadata are extracted from the documents\")\n",
    "    return content, metadata"
   ]
  },
  {
   "cell_type": "code",
   "execution_count": 17,
   "id": "957abe51-a5a9-4ae8-8f51-e190a25bc066",
   "metadata": {},
   "outputs": [
    {
     "name": "stdout",
     "output_type": "stream",
     "text": [
      "Content and metadata are extracted from the documents\n"
     ]
    }
   ],
   "source": [
    "content, metadata = process_pdf(pdf_files)"
   ]
  },
  {
   "cell_type": "markdown",
   "id": "77c298eb-16f0-4c84-ae5f-82270e44c0a7",
   "metadata": {},
   "source": [
    "# Step 2: Split the content into smaller portion"
   ]
  },
  {
   "cell_type": "code",
   "execution_count": 15,
   "id": "9687dc6b-377e-4370-896b-60ea98cf39db",
   "metadata": {},
   "outputs": [],
   "source": [
    "def split_content(content, metadata):\n",
    "    splitter = RecursiveCharacterTextSplitter.from_tiktoken_encoder(\n",
    "        chunk_size=512,\n",
    "        chunk_overlap=256,\n",
    "    )\n",
    "    smaller_docs = splitter.create_documents(content, metadatas=metadata)\n",
    "    print(f\"Documents are split into {len(smaller_docs)} passages\")\n",
    "    return smaller_docs"
   ]
  },
  {
   "cell_type": "code",
   "execution_count": 18,
   "id": "cc5612ab-ccd0-4501-a9e6-b2b2bc2c5927",
   "metadata": {},
   "outputs": [
    {
     "name": "stdout",
     "output_type": "stream",
     "text": [
      "Documents are split into 7 passages\n"
     ]
    },
    {
     "data": {
      "text/plain": [
       "[Document(page_content='COMPUTER VISION\\n©Great Learning. Proprietary content. All Rights Reserved. Unauthorised use or distribution prohibited\\nCAPSTONE PROJECTAIML \\nPNEUMONIA DETECTION CHALLENGE\\nkalita278@gmail.com\\nFSL1MRBPOT\\nThis file is meant for personal use by kalita278@gmail.com only.\\nSharing or publishing the contents in part or full is liable for legal action.', metadata={'title': 'C:/Users/Mrinal Kalita/Python Projects/AIML Capstone Project - CV - Pneumonia Detection-1.pdf page 1'}),\n",
       " Document(page_content='CAPSTONE PROJECT - CV', metadata={'title': 'C:/Users/Mrinal Kalita/Python Projects/AIML Capstone Project - CV - Pneumonia Detection-1.pdf page 2'}),\n",
       " Document(page_content='©Great Learning. Proprietary content. All Rights Reserved. Unauthorised use or distribution prohibitedPage 1PROBLEM STA TEMENT •DOMAIN: Health Care  •CONTEXT:  Computer vision can be used in health care for identifying diseases. In Pneumonia detection we need to detect Inflammation of the lungs. In this challenge, you’re required to build an algorithm to detect a visual signal for pneumonia in medical images. Specifically, your algorithm needs to automatically locate lung opacities on chest radiographs. •DATA DESCRIPTION: - In the dataset, some of the features are labeled “Not Normal No Lung Opacity”. This extra third class indicates that while pneumonia was determined not to be present, there was nonetheless some type of abnormality on the image and oftentimes this finding may mimic the appearance of true pneumonia. Dicom original images: - Medical images are stored in a special format called DICOM files (*.dcm). They contain a combination of header metadata as well as underlying raw image arrays for pixel data.  - Dataset has been attached along with this project. Please use the same for this capstone project. - Original link to the dataset : https://www.kaggle.com/c/rsna-pneumonia-detection-challenge/data [ for your reference only ]. You can refer to the details of the dataset in the above link - Acknowledgements: https://www.kaggle.com/c/rsna-pneumonia-detection-challenge/overview/acknowledgements. •PROJECT OBJECTIVE: Design a DL based algorithm for detecting pneumonia. •PROJECT TASK: [ Score: 100 points] 1.Milestone 1: [ Score: 40 points] ‣Input: Context and Dataset ‣Process:  ‣Step 1: Import the data. [ 3 points ] ‣Step 2: Map training and testing images to its classes. [ 4 points ] ‣Step 3: Map training and testing images to its annotations. [ 4 points ] ‣Step 4: Preprocessing and Visualisation of different classes [4 Points] ‣Step 5: Display images with bounding box. [ 5 points ] ‣Step 6: Design, train and test basic CNN models for classification. [ 10 points ] ‣Step 7: Interim report [ 10 points ] ‣Submission: Interim report,', metadata={'title': 'C:/Users/Mrinal Kalita/Python Projects/AIML Capstone Project - CV - Pneumonia Detection-1.pdf page 2'}),\n",
       " Document(page_content='[ for your reference only ]. You can refer to the details of the dataset in the above link - Acknowledgements: https://www.kaggle.com/c/rsna-pneumonia-detection-challenge/overview/acknowledgements. •PROJECT OBJECTIVE: Design a DL based algorithm for detecting pneumonia. •PROJECT TASK: [ Score: 100 points] 1.Milestone 1: [ Score: 40 points] ‣Input: Context and Dataset ‣Process:  ‣Step 1: Import the data. [ 3 points ] ‣Step 2: Map training and testing images to its classes. [ 4 points ] ‣Step 3: Map training and testing images to its annotations. [ 4 points ] ‣Step 4: Preprocessing and Visualisation of different classes [4 Points] ‣Step 5: Display images with bounding box. [ 5 points ] ‣Step 6: Design, train and test basic CNN models for classification. [ 10 points ] ‣Step 7: Interim report [ 10 points ] ‣Submission: Interim report, Jupyter Notebook with all the steps in Milestone-1 2.Milestone 2: [ Score: 60 points] ‣Input: Preprocessed output from Milestone-1 ‣Process:  ‣Step 1: Fine tune the trained basic CNN models for classification. [ 5 points ] ‣Step 2: Apply Transfer Learning model for classification [4 points] ‣Step 3: Design, train and test RCNN & its hybrids based object detection models to impose the bounding box or mask over the area of interest. [ 8 points ] ‣Step 4: Pickle the model for future prediction [ 3 Points] ‣Step 5: Final Report [40 Points] ‣Submission: Final report, Jupyter Notebook with all the steps in Milestone-1 and Milestone-2 3.Milestone 3: [ Optional ] ‣Process: ‣Step 1: Design a clickable UI based interface which can allow the user to browse & input the image, output the class and the bounding box or mask [ highlight area of interest ] of the input image  ‣Submission: Final report, Jupyter Notebook with the addition of clickable UI based interface ‣References and hints:  ‣Please refer to the blog to understand the basics of object detection:', metadata={'title': 'C:/Users/Mrinal Kalita/Python Projects/AIML Capstone Project - CV - Pneumonia Detection-1.pdf page 2'}),\n",
       " Document(page_content='2: [ Score: 60 points] ‣Input: Preprocessed output from Milestone-1 ‣Process:  ‣Step 1: Fine tune the trained basic CNN models for classification. [ 5 points ] ‣Step 2: Apply Transfer Learning model for classification [4 points] ‣Step 3: Design, train and test RCNN & its hybrids based object detection models to impose the bounding box or mask over the area of interest. [ 8 points ] ‣Step 4: Pickle the model for future prediction [ 3 Points] ‣Step 5: Final Report [40 Points] ‣Submission: Final report, Jupyter Notebook with all the steps in Milestone-1 and Milestone-2 3.Milestone 3: [ Optional ] ‣Process: ‣Step 1: Design a clickable UI based interface which can allow the user to browse & input the image, output the class and the bounding box or mask [ highlight area of interest ] of the input image  ‣Submission: Final report, Jupyter Notebook with the addition of clickable UI based interface ‣References and hints:  ‣Please refer to the blog to understand the basics of object detection: https://www.mygreatlearning.com/blog/object-detection-using-tensorflow/  ‣YOLO object detection using OpenCV: https://www.mygreatlearning.com/blog/yolo-object-detection-using-opencv/?highlight=detection ‣Classification and object detection: https://www.mygreatlearning.com/blog/cnn-model-architectures-and-applications/ ‣To make GUI as a desk app you can use TKINTER library. You are free to use any other library. ‣To make web service GUI you can use FLASK or DJANGO library.', metadata={'title': 'C:/Users/Mrinal Kalita/Python Projects/AIML Capstone Project - CV - Pneumonia Detection-1.pdf page 2'}),\n",
       " Document(page_content='kalita278@gmail.com\\nFSL1MRBPOT\\nThis file is meant for personal use by kalita278@gmail.com only.\\nSharing or publishing the contents in part or full is liable for legal action.', metadata={'title': 'C:/Users/Mrinal Kalita/Python Projects/AIML Capstone Project - CV - Pneumonia Detection-1.pdf page 2'}),\n",
       " Document(page_content='POINTS TO REMEMBER 1.A maximum of 100 points will be awarded for this project 2.Project to be submitted within 6 weeks of date of release. Late submission will be accepted under genuine situation. Score will be given as per the below formula: If the current score is greater than 40 then the final score will be capped at 40.  Else the current score will be awarded.  3.Any form of plagiarism is strictly prohibited. No score will be awarded in this case.\\nHAPPY LEARNING!\\n©Great Learning. Proprietary content. All Rights Reserved. Unauthorised use or distribution prohibitedCAPSTONE PROJECT - CV\\nkalita278@gmail.com\\nFSL1MRBPOT\\nThis file is meant for personal use by kalita278@gmail.com only.\\nSharing or publishing the contents in part or full is liable for legal action.', metadata={'title': 'C:/Users/Mrinal Kalita/Python Projects/AIML Capstone Project - CV - Pneumonia Detection-1.pdf page 3'})]"
      ]
     },
     "execution_count": 18,
     "metadata": {},
     "output_type": "execute_result"
    }
   ],
   "source": [
    "split_content(content, metadata)"
   ]
  },
  {
   "cell_type": "code",
   "execution_count": null,
   "id": "4fd1aa0a-520d-4c4c-b774-93d56d3e78e6",
   "metadata": {},
   "outputs": [],
   "source": []
  }
 ],
 "metadata": {
  "kernelspec": {
   "display_name": "Python 3 (ipykernel)",
   "language": "python",
   "name": "python3"
  },
  "language_info": {
   "codemirror_mode": {
    "name": "ipython",
    "version": 3
   },
   "file_extension": ".py",
   "mimetype": "text/x-python",
   "name": "python",
   "nbconvert_exporter": "python",
   "pygments_lexer": "ipython3",
   "version": "3.8.19"
  }
 },
 "nbformat": 4,
 "nbformat_minor": 5
}
