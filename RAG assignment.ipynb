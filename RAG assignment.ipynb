{
 "cells": [
  {
   "cell_type": "code",
   "execution_count": 2,
   "id": "f67db59e-dc9b-4e3b-be3c-f15ae1f5c2fb",
   "metadata": {},
   "outputs": [],
   "source": [
    "import PyPDF2\n",
    "\n",
    "from langchain.text_splitter import RecursiveCharacterTextSplitter\n",
    "from langchain_community.llms import LlamaCpp\n",
    "\n",
    "\n",
    "from langchain.embeddings import HuggingFaceEmbeddings # import hf embedding\n",
    "from langchain.vectorstores import FAISS\n",
    "from langchain.memory import ConversationBufferMemory\n",
    "from langchain.chains import ConversationalRetrievalChain\n",
    "\n",
    "\n",
    "from langchain.prompts import PromptTemplate\n",
    "from sentence_transformers import SentenceTransformer, util\n",
    "from langchain.callbacks.manager import CallbackManager\n",
    "from langchain.callbacks.streaming_stdout import StreamingStdOutCallbackHandler"
   ]
  },
  {
   "cell_type": "code",
   "execution_count": 4,
   "id": "31b95856-0c9c-4ccd-8803-907aec0a65a7",
   "metadata": {},
   "outputs": [],
   "source": [
    "pdf_file=[\"C:/Users/Mrinal Kalita/Python Projects/AIML Capstone Project - CV - Pneumonia Detection-1.pdf\"]"
   ]
  },
  {
   "cell_type": "code",
   "execution_count": 9,
   "id": "b5a41429-8752-46ba-8c88-113adae0d699",
   "metadata": {},
   "outputs": [
    {
     "name": "stdout",
     "output_type": "stream",
     "text": [
      "0 {'/Type': '/Page', '/Parent': IndirectObject(2, 0, 2242460633408), '/Resources': {'/ProcSet': ['/PDF', '/Text', '/ImageB', '/ImageC', '/ImageI'], '/ColorSpace': {'/Cs1': IndirectObject(5, 0, 2242460633408), '/Cs2': IndirectObject(7, 0, 2242460633408)}, '/ExtGState': {'/Gs1': IndirectObject(16, 0, 2242460633408), '/Gs2': IndirectObject(17, 0, 2242460633408), '/GS-9742682568': {'/Type': '/ExtGState', '/ca': 0}, '/GS-9750469207': {'/Type': '/ExtGState', '/ca': 0}, '/GS-8450180107': {'/Type': '/ExtGState', '/ca': 1}, '/GS-5824662338': {'/Type': '/ExtGState', '/ca': 1}}, '/Font': {'/Tc1': IndirectObject(8, 0, 2242460633408), '/Tc2': IndirectObject(9, 0, 2242460633408), '/Tc3': IndirectObject(12, 0, 2242460633408), '/Tc4': IndirectObject(13, 0, 2242460633408), '/Helvetica-7098480789': IndirectObject(257, 0, 2242460633408), '/Helvetica-2000805986': IndirectObject(257, 0, 2242460633408), '/Helvetica-7572533686': IndirectObject(257, 0, 2242460633408), '/Helvetica-8659871878': IndirectObject(257, 0, 2242460633408)}, '/XObject': {'/Im1': IndirectObject(6, 0, 2242460633408), '/Im2': IndirectObject(10, 0, 2242460633408), '/Im3': IndirectObject(11, 0, 2242460633408), '/Im4': IndirectObject(14, 0, 2242460633408)}}, '/Contents': [IndirectObject(258, 0, 2242460633408), IndirectObject(3, 0, 2242460633408), IndirectObject(259, 0, 2242460633408), IndirectObject(260, 0, 2242460633408)], '/MediaBox': [0, 0, 612, 1008], '/Annots': []}\n",
      "1 {'/Type': '/Page', '/Parent': IndirectObject(2, 0, 2242460633408), '/Resources': {'/ProcSet': ['/PDF', '/Text', '/ImageB', '/ImageC', '/ImageI'], '/ColorSpace': {'/Cs1': IndirectObject(5, 0, 2242460633408), '/Cs2': IndirectObject(7, 0, 2242460633408)}, '/Font': {'/Tc2': IndirectObject(9, 0, 2242460633408), '/Tc1': IndirectObject(8, 0, 2242460633408), '/Tc8': IndirectObject(30, 0, 2242460633408), '/Tc4': IndirectObject(13, 0, 2242460633408), '/Tc5': IndirectObject(27, 0, 2242460633408), '/Tc6': IndirectObject(28, 0, 2242460633408), '/Tc7': IndirectObject(29, 0, 2242460633408), '/TT2': IndirectObject(32, 0, 2242460633408), '/Helvetica-1848524175': IndirectObject(257, 0, 2242460633408), '/Helvetica-979344929': IndirectObject(257, 0, 2242460633408), '/Helvetica-6703682664': IndirectObject(257, 0, 2242460633408), '/Helvetica-8784015711': IndirectObject(257, 0, 2242460633408)}, '/XObject': {'/Im5': IndirectObject(33, 0, 2242460633408)}, '/ExtGState': {'/GS-7888911063': {'/Type': '/ExtGState', '/ca': 0}, '/GS-2708199956': {'/Type': '/ExtGState', '/ca': 0}, '/GS-735569487': {'/Type': '/ExtGState', '/ca': 1}, '/GS-9668333493': {'/Type': '/ExtGState', '/ca': 1}}}, '/Contents': [IndirectObject(258, 0, 2242460633408), IndirectObject(25, 0, 2242460633408), IndirectObject(259, 0, 2242460633408), IndirectObject(261, 0, 2242460633408)], '/MediaBox': [0, 0, 612, 1008], '/Annots': []}\n",
      "2 {'/Type': '/Page', '/Parent': IndirectObject(2, 0, 2242460633408), '/Resources': {'/ProcSet': ['/PDF', '/Text', '/ImageB', '/ImageC', '/ImageI'], '/ColorSpace': {'/Cs1': IndirectObject(5, 0, 2242460633408), '/Cs2': IndirectObject(7, 0, 2242460633408)}, '/ExtGState': {'/Gs3': IndirectObject(42, 0, 2242460633408), '/Gs4': IndirectObject(43, 0, 2242460633408), '/GS-1275322832': {'/Type': '/ExtGState', '/ca': 0}, '/GS-4525072762': {'/Type': '/ExtGState', '/ca': 0}, '/GS-4869070959': {'/Type': '/ExtGState', '/ca': 1}, '/GS-2163799337': {'/Type': '/ExtGState', '/ca': 1}}, '/Font': {'/Tc5': IndirectObject(27, 0, 2242460633408), '/Tc1': IndirectObject(8, 0, 2242460633408), '/Tc8': IndirectObject(30, 0, 2242460633408), '/Tc2': IndirectObject(9, 0, 2242460633408), '/Tc4': IndirectObject(13, 0, 2242460633408), '/Helvetica-250812044': IndirectObject(257, 0, 2242460633408), '/Helvetica-7720966295': IndirectObject(257, 0, 2242460633408), '/Helvetica-5563853605': IndirectObject(257, 0, 2242460633408), '/Helvetica-7959582482': IndirectObject(257, 0, 2242460633408)}, '/XObject': {'/Im6': IndirectObject(38, 0, 2242460633408), '/Im7': IndirectObject(39, 0, 2242460633408), '/Im8': IndirectObject(40, 0, 2242460633408), '/Im5': IndirectObject(33, 0, 2242460633408)}}, '/Contents': [IndirectObject(258, 0, 2242460633408), IndirectObject(36, 0, 2242460633408), IndirectObject(259, 0, 2242460633408), IndirectObject(262, 0, 2242460633408)], '/MediaBox': [0, 0, 612, 1008], '/Annots': []}\n"
     ]
    }
   ],
   "source": [
    "for i in pdf_file:\n",
    "    pdf_reader = PyPDF2.PdfReader(i)\n",
    "    for index, text in enumerate(pdf_reader.pages):\n",
    "        print(index,text)"
   ]
  },
  {
   "cell_type": "code",
   "execution_count": null,
   "id": "957abe51-a5a9-4ae8-8f51-e190a25bc066",
   "metadata": {},
   "outputs": [],
   "source": []
  }
 ],
 "metadata": {
  "kernelspec": {
   "display_name": "Python 3 (ipykernel)",
   "language": "python",
   "name": "python3"
  },
  "language_info": {
   "codemirror_mode": {
    "name": "ipython",
    "version": 3
   },
   "file_extension": ".py",
   "mimetype": "text/x-python",
   "name": "python",
   "nbconvert_exporter": "python",
   "pygments_lexer": "ipython3",
   "version": "3.8.19"
  }
 },
 "nbformat": 4,
 "nbformat_minor": 5
}
